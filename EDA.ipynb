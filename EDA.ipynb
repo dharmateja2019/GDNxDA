{
 "cells": [
  {
   "cell_type": "markdown",
   "metadata": {},
   "source": [
    "## EDA"
   ]
  },
  {
   "cell_type": "code",
   "execution_count": 1,
   "metadata": {},
   "outputs": [],
   "source": [
    "#invite people for the Kaggle party\n",
    "import pandas as pd\n",
    "import matplotlib.pyplot as plt\n",
    "import seaborn as sns\n",
    "import numpy as np\n",
    "import warnings\n",
    "warnings.filterwarnings('ignore')\n",
    "%matplotlib inline"
   ]
  },
  {
   "cell_type": "markdown",
   "metadata": {},
   "source": [
    "## Importing dataset"
   ]
  },
  {
   "cell_type": "code",
   "execution_count": 2,
   "metadata": {},
   "outputs": [
    {
     "data": {
      "text/html": [
       "<div>\n",
       "<style scoped>\n",
       "    .dataframe tbody tr th:only-of-type {\n",
       "        vertical-align: middle;\n",
       "    }\n",
       "\n",
       "    .dataframe tbody tr th {\n",
       "        vertical-align: top;\n",
       "    }\n",
       "\n",
       "    .dataframe thead th {\n",
       "        text-align: right;\n",
       "    }\n",
       "</style>\n",
       "<table border=\"1\" class=\"dataframe\">\n",
       "  <thead>\n",
       "    <tr style=\"text-align: right;\">\n",
       "      <th></th>\n",
       "      <th>policyID</th>\n",
       "      <th>statecode</th>\n",
       "      <th>county</th>\n",
       "      <th>eq_site_limit</th>\n",
       "      <th>hu_site_limit</th>\n",
       "      <th>fl_site_limit</th>\n",
       "      <th>fr_site_limit</th>\n",
       "      <th>tiv_2011</th>\n",
       "      <th>tiv_2012</th>\n",
       "      <th>eq_site_deductible</th>\n",
       "      <th>hu_site_deductible</th>\n",
       "      <th>fl_site_deductible</th>\n",
       "      <th>fr_site_deductible</th>\n",
       "      <th>point_latitude</th>\n",
       "      <th>point_longitude</th>\n",
       "      <th>line</th>\n",
       "      <th>construction</th>\n",
       "      <th>point_granularity</th>\n",
       "    </tr>\n",
       "  </thead>\n",
       "  <tbody>\n",
       "    <tr>\n",
       "      <th>0</th>\n",
       "      <td>119736</td>\n",
       "      <td>FL</td>\n",
       "      <td>CLAY COUNTY</td>\n",
       "      <td>498960.0</td>\n",
       "      <td>498960.00</td>\n",
       "      <td>498960.0</td>\n",
       "      <td>498960.0</td>\n",
       "      <td>498960.00</td>\n",
       "      <td>792148.90</td>\n",
       "      <td>0.0</td>\n",
       "      <td>9979.2</td>\n",
       "      <td>0.0</td>\n",
       "      <td>0</td>\n",
       "      <td>30.102261</td>\n",
       "      <td>-81.711777</td>\n",
       "      <td>Residential</td>\n",
       "      <td>Masonry</td>\n",
       "      <td>1</td>\n",
       "    </tr>\n",
       "    <tr>\n",
       "      <th>1</th>\n",
       "      <td>448094</td>\n",
       "      <td>FL</td>\n",
       "      <td>CLAY COUNTY</td>\n",
       "      <td>1322376.3</td>\n",
       "      <td>1322376.30</td>\n",
       "      <td>1322376.3</td>\n",
       "      <td>1322376.3</td>\n",
       "      <td>1322376.30</td>\n",
       "      <td>1438163.57</td>\n",
       "      <td>0.0</td>\n",
       "      <td>0.0</td>\n",
       "      <td>0.0</td>\n",
       "      <td>0</td>\n",
       "      <td>30.063936</td>\n",
       "      <td>-81.707664</td>\n",
       "      <td>Residential</td>\n",
       "      <td>Masonry</td>\n",
       "      <td>3</td>\n",
       "    </tr>\n",
       "    <tr>\n",
       "      <th>2</th>\n",
       "      <td>206893</td>\n",
       "      <td>FL</td>\n",
       "      <td>CLAY COUNTY</td>\n",
       "      <td>190724.4</td>\n",
       "      <td>190724.40</td>\n",
       "      <td>190724.4</td>\n",
       "      <td>190724.4</td>\n",
       "      <td>190724.40</td>\n",
       "      <td>192476.78</td>\n",
       "      <td>0.0</td>\n",
       "      <td>0.0</td>\n",
       "      <td>0.0</td>\n",
       "      <td>0</td>\n",
       "      <td>30.089579</td>\n",
       "      <td>-81.700455</td>\n",
       "      <td>Residential</td>\n",
       "      <td>Wood</td>\n",
       "      <td>1</td>\n",
       "    </tr>\n",
       "    <tr>\n",
       "      <th>3</th>\n",
       "      <td>333743</td>\n",
       "      <td>FL</td>\n",
       "      <td>CLAY COUNTY</td>\n",
       "      <td>0.0</td>\n",
       "      <td>79520.76</td>\n",
       "      <td>0.0</td>\n",
       "      <td>0.0</td>\n",
       "      <td>79520.76</td>\n",
       "      <td>86854.48</td>\n",
       "      <td>0.0</td>\n",
       "      <td>0.0</td>\n",
       "      <td>0.0</td>\n",
       "      <td>0</td>\n",
       "      <td>30.063236</td>\n",
       "      <td>-81.707703</td>\n",
       "      <td>Residential</td>\n",
       "      <td>Wood</td>\n",
       "      <td>3</td>\n",
       "    </tr>\n",
       "    <tr>\n",
       "      <th>4</th>\n",
       "      <td>172534</td>\n",
       "      <td>FL</td>\n",
       "      <td>CLAY COUNTY</td>\n",
       "      <td>0.0</td>\n",
       "      <td>254281.50</td>\n",
       "      <td>0.0</td>\n",
       "      <td>254281.5</td>\n",
       "      <td>254281.50</td>\n",
       "      <td>246144.49</td>\n",
       "      <td>0.0</td>\n",
       "      <td>0.0</td>\n",
       "      <td>0.0</td>\n",
       "      <td>0</td>\n",
       "      <td>30.060614</td>\n",
       "      <td>-81.702675</td>\n",
       "      <td>Residential</td>\n",
       "      <td>Wood</td>\n",
       "      <td>1</td>\n",
       "    </tr>\n",
       "  </tbody>\n",
       "</table>\n",
       "</div>"
      ],
      "text/plain": [
       "   policyID statecode       county  eq_site_limit  hu_site_limit  \\\n",
       "0    119736        FL  CLAY COUNTY       498960.0      498960.00   \n",
       "1    448094        FL  CLAY COUNTY      1322376.3     1322376.30   \n",
       "2    206893        FL  CLAY COUNTY       190724.4      190724.40   \n",
       "3    333743        FL  CLAY COUNTY            0.0       79520.76   \n",
       "4    172534        FL  CLAY COUNTY            0.0      254281.50   \n",
       "\n",
       "   fl_site_limit  fr_site_limit    tiv_2011    tiv_2012  eq_site_deductible  \\\n",
       "0       498960.0       498960.0   498960.00   792148.90                 0.0   \n",
       "1      1322376.3      1322376.3  1322376.30  1438163.57                 0.0   \n",
       "2       190724.4       190724.4   190724.40   192476.78                 0.0   \n",
       "3            0.0            0.0    79520.76    86854.48                 0.0   \n",
       "4            0.0       254281.5   254281.50   246144.49                 0.0   \n",
       "\n",
       "   hu_site_deductible  fl_site_deductible  fr_site_deductible  point_latitude  \\\n",
       "0              9979.2                 0.0                   0       30.102261   \n",
       "1                 0.0                 0.0                   0       30.063936   \n",
       "2                 0.0                 0.0                   0       30.089579   \n",
       "3                 0.0                 0.0                   0       30.063236   \n",
       "4                 0.0                 0.0                   0       30.060614   \n",
       "\n",
       "   point_longitude         line construction  point_granularity  \n",
       "0       -81.711777  Residential      Masonry                  1  \n",
       "1       -81.707664  Residential      Masonry                  3  \n",
       "2       -81.700455  Residential         Wood                  1  \n",
       "3       -81.707703  Residential         Wood                  3  \n",
       "4       -81.702675  Residential         Wood                  1  "
      ]
     },
     "execution_count": 2,
     "metadata": {},
     "output_type": "execute_result"
    }
   ],
   "source": [
    "df=pd.read_csv('data.csv')\n",
    "y=df['policyID']\n",
    "df=pd.DataFrame(df)\n",
    "df.head()"
   ]
  },
  {
   "cell_type": "markdown",
   "metadata": {},
   "source": [
    "## Description of dataset\n",
    "We need to know the different kinds of data and other statistics of our data before we can move on to the other steps. A good one is to start with the describe() function in python."
   ]
  },
  {
   "cell_type": "code",
   "execution_count": 3,
   "metadata": {},
   "outputs": [
    {
     "data": {
      "text/html": [
       "<div>\n",
       "<style scoped>\n",
       "    .dataframe tbody tr th:only-of-type {\n",
       "        vertical-align: middle;\n",
       "    }\n",
       "\n",
       "    .dataframe tbody tr th {\n",
       "        vertical-align: top;\n",
       "    }\n",
       "\n",
       "    .dataframe thead th {\n",
       "        text-align: right;\n",
       "    }\n",
       "</style>\n",
       "<table border=\"1\" class=\"dataframe\">\n",
       "  <thead>\n",
       "    <tr style=\"text-align: right;\">\n",
       "      <th></th>\n",
       "      <th>policyID</th>\n",
       "      <th>eq_site_limit</th>\n",
       "      <th>hu_site_limit</th>\n",
       "      <th>fl_site_limit</th>\n",
       "      <th>fr_site_limit</th>\n",
       "      <th>tiv_2011</th>\n",
       "      <th>tiv_2012</th>\n",
       "      <th>eq_site_deductible</th>\n",
       "      <th>hu_site_deductible</th>\n",
       "      <th>fl_site_deductible</th>\n",
       "      <th>fr_site_deductible</th>\n",
       "      <th>point_latitude</th>\n",
       "      <th>point_longitude</th>\n",
       "      <th>point_granularity</th>\n",
       "    </tr>\n",
       "  </thead>\n",
       "  <tbody>\n",
       "    <tr>\n",
       "      <th>count</th>\n",
       "      <td>36634.000000</td>\n",
       "      <td>3.663400e+04</td>\n",
       "      <td>3.663400e+04</td>\n",
       "      <td>3.663400e+04</td>\n",
       "      <td>3.663400e+04</td>\n",
       "      <td>3.663400e+04</td>\n",
       "      <td>3.663400e+04</td>\n",
       "      <td>3.663400e+04</td>\n",
       "      <td>3.663400e+04</td>\n",
       "      <td>36634.000000</td>\n",
       "      <td>36634.000000</td>\n",
       "      <td>36634.000000</td>\n",
       "      <td>36634.000000</td>\n",
       "      <td>36634.000000</td>\n",
       "    </tr>\n",
       "    <tr>\n",
       "      <th>mean</th>\n",
       "      <td>548661.937189</td>\n",
       "      <td>7.314780e+05</td>\n",
       "      <td>2.074348e+06</td>\n",
       "      <td>6.646009e+05</td>\n",
       "      <td>9.911724e+05</td>\n",
       "      <td>2.172875e+06</td>\n",
       "      <td>2.571004e+06</td>\n",
       "      <td>7.787908e+02</td>\n",
       "      <td>7.037985e+03</td>\n",
       "      <td>192.453210</td>\n",
       "      <td>26.483594</td>\n",
       "      <td>28.087477</td>\n",
       "      <td>-81.903565</td>\n",
       "      <td>1.640907</td>\n",
       "    </tr>\n",
       "    <tr>\n",
       "      <th>std</th>\n",
       "      <td>259912.926494</td>\n",
       "      <td>1.752300e+07</td>\n",
       "      <td>1.964150e+07</td>\n",
       "      <td>1.746114e+07</td>\n",
       "      <td>1.767178e+07</td>\n",
       "      <td>2.015015e+07</td>\n",
       "      <td>2.036777e+07</td>\n",
       "      <td>4.787979e+04</td>\n",
       "      <td>9.582593e+04</td>\n",
       "      <td>8037.713716</td>\n",
       "      <td>4702.740932</td>\n",
       "      <td>1.647734</td>\n",
       "      <td>1.809066</td>\n",
       "      <td>1.070561</td>\n",
       "    </tr>\n",
       "    <tr>\n",
       "      <th>min</th>\n",
       "      <td>100074.000000</td>\n",
       "      <td>0.000000e+00</td>\n",
       "      <td>0.000000e+00</td>\n",
       "      <td>0.000000e+00</td>\n",
       "      <td>0.000000e+00</td>\n",
       "      <td>9.000000e+01</td>\n",
       "      <td>7.337000e+01</td>\n",
       "      <td>0.000000e+00</td>\n",
       "      <td>0.000000e+00</td>\n",
       "      <td>0.000000</td>\n",
       "      <td>0.000000</td>\n",
       "      <td>24.547514</td>\n",
       "      <td>-87.447290</td>\n",
       "      <td>1.000000</td>\n",
       "    </tr>\n",
       "    <tr>\n",
       "      <th>25%</th>\n",
       "      <td>323647.750000</td>\n",
       "      <td>0.000000e+00</td>\n",
       "      <td>4.248106e+04</td>\n",
       "      <td>0.000000e+00</td>\n",
       "      <td>0.000000e+00</td>\n",
       "      <td>4.562415e+04</td>\n",
       "      <td>5.401351e+04</td>\n",
       "      <td>0.000000e+00</td>\n",
       "      <td>0.000000e+00</td>\n",
       "      <td>0.000000</td>\n",
       "      <td>0.000000</td>\n",
       "      <td>26.471996</td>\n",
       "      <td>-82.439331</td>\n",
       "      <td>1.000000</td>\n",
       "    </tr>\n",
       "    <tr>\n",
       "      <th>50%</th>\n",
       "      <td>548525.000000</td>\n",
       "      <td>0.000000e+00</td>\n",
       "      <td>1.926911e+05</td>\n",
       "      <td>0.000000e+00</td>\n",
       "      <td>0.000000e+00</td>\n",
       "      <td>2.021051e+05</td>\n",
       "      <td>2.416310e+05</td>\n",
       "      <td>0.000000e+00</td>\n",
       "      <td>0.000000e+00</td>\n",
       "      <td>0.000000</td>\n",
       "      <td>0.000000</td>\n",
       "      <td>28.057077</td>\n",
       "      <td>-81.585700</td>\n",
       "      <td>1.000000</td>\n",
       "    </tr>\n",
       "    <tr>\n",
       "      <th>75%</th>\n",
       "      <td>774252.000000</td>\n",
       "      <td>0.000000e+00</td>\n",
       "      <td>9.163381e+05</td>\n",
       "      <td>0.000000e+00</td>\n",
       "      <td>5.741010e+04</td>\n",
       "      <td>9.465821e+05</td>\n",
       "      <td>1.128871e+06</td>\n",
       "      <td>0.000000e+00</td>\n",
       "      <td>0.000000e+00</td>\n",
       "      <td>0.000000</td>\n",
       "      <td>0.000000</td>\n",
       "      <td>29.623005</td>\n",
       "      <td>-80.372910</td>\n",
       "      <td>3.000000</td>\n",
       "    </tr>\n",
       "    <tr>\n",
       "      <th>max</th>\n",
       "      <td>999971.000000</td>\n",
       "      <td>2.160000e+09</td>\n",
       "      <td>2.160000e+09</td>\n",
       "      <td>2.160000e+09</td>\n",
       "      <td>2.160000e+09</td>\n",
       "      <td>2.160000e+09</td>\n",
       "      <td>1.701000e+09</td>\n",
       "      <td>6.273765e+06</td>\n",
       "      <td>7.380000e+06</td>\n",
       "      <td>450000.000000</td>\n",
       "      <td>900000.000000</td>\n",
       "      <td>30.989820</td>\n",
       "      <td>-80.033257</td>\n",
       "      <td>7.000000</td>\n",
       "    </tr>\n",
       "  </tbody>\n",
       "</table>\n",
       "</div>"
      ],
      "text/plain": [
       "            policyID  eq_site_limit  hu_site_limit  fl_site_limit  \\\n",
       "count   36634.000000   3.663400e+04   3.663400e+04   3.663400e+04   \n",
       "mean   548661.937189   7.314780e+05   2.074348e+06   6.646009e+05   \n",
       "std    259912.926494   1.752300e+07   1.964150e+07   1.746114e+07   \n",
       "min    100074.000000   0.000000e+00   0.000000e+00   0.000000e+00   \n",
       "25%    323647.750000   0.000000e+00   4.248106e+04   0.000000e+00   \n",
       "50%    548525.000000   0.000000e+00   1.926911e+05   0.000000e+00   \n",
       "75%    774252.000000   0.000000e+00   9.163381e+05   0.000000e+00   \n",
       "max    999971.000000   2.160000e+09   2.160000e+09   2.160000e+09   \n",
       "\n",
       "       fr_site_limit      tiv_2011      tiv_2012  eq_site_deductible  \\\n",
       "count   3.663400e+04  3.663400e+04  3.663400e+04        3.663400e+04   \n",
       "mean    9.911724e+05  2.172875e+06  2.571004e+06        7.787908e+02   \n",
       "std     1.767178e+07  2.015015e+07  2.036777e+07        4.787979e+04   \n",
       "min     0.000000e+00  9.000000e+01  7.337000e+01        0.000000e+00   \n",
       "25%     0.000000e+00  4.562415e+04  5.401351e+04        0.000000e+00   \n",
       "50%     0.000000e+00  2.021051e+05  2.416310e+05        0.000000e+00   \n",
       "75%     5.741010e+04  9.465821e+05  1.128871e+06        0.000000e+00   \n",
       "max     2.160000e+09  2.160000e+09  1.701000e+09        6.273765e+06   \n",
       "\n",
       "       hu_site_deductible  fl_site_deductible  fr_site_deductible  \\\n",
       "count        3.663400e+04        36634.000000        36634.000000   \n",
       "mean         7.037985e+03          192.453210           26.483594   \n",
       "std          9.582593e+04         8037.713716         4702.740932   \n",
       "min          0.000000e+00            0.000000            0.000000   \n",
       "25%          0.000000e+00            0.000000            0.000000   \n",
       "50%          0.000000e+00            0.000000            0.000000   \n",
       "75%          0.000000e+00            0.000000            0.000000   \n",
       "max          7.380000e+06       450000.000000       900000.000000   \n",
       "\n",
       "       point_latitude  point_longitude  point_granularity  \n",
       "count    36634.000000     36634.000000       36634.000000  \n",
       "mean        28.087477       -81.903565           1.640907  \n",
       "std          1.647734         1.809066           1.070561  \n",
       "min         24.547514       -87.447290           1.000000  \n",
       "25%         26.471996       -82.439331           1.000000  \n",
       "50%         28.057077       -81.585700           1.000000  \n",
       "75%         29.623005       -80.372910           3.000000  \n",
       "max         30.989820       -80.033257           7.000000  "
      ]
     },
     "execution_count": 3,
     "metadata": {},
     "output_type": "execute_result"
    }
   ],
   "source": [
    "df.describe()"
   ]
  },
  {
   "cell_type": "markdown",
   "metadata": {},
   "source": [
    "## Handling missing values\n",
    "Missing values need to be handled carefully because they reduce the quality of any of our performance matrix. It can also lead to wrong prediction or classification and can also cause a high bias for any given model being used.\n",
    "Below are some of the techniques:\n",
    "\n",
    "1)Drop NULL Values\n",
    "2)Fill Missing Values\n",
    "3)Predict Missing values with an ML Algorithm"
   ]
  },
  {
   "cell_type": "code",
   "execution_count": 4,
   "metadata": {},
   "outputs": [
    {
     "data": {
      "text/plain": [
       "(36634, 18)"
      ]
     },
     "execution_count": 4,
     "metadata": {},
     "output_type": "execute_result"
    }
   ],
   "source": [
    "df.shape"
   ]
  },
  {
   "cell_type": "code",
   "execution_count": 5,
   "metadata": {},
   "outputs": [
    {
     "data": {
      "text/plain": [
       "(36634, 18)"
      ]
     },
     "execution_count": 5,
     "metadata": {},
     "output_type": "execute_result"
    }
   ],
   "source": [
    "df=df.dropna()\n",
    "df.shape"
   ]
  },
  {
   "cell_type": "markdown",
   "metadata": {},
   "source": [
    "# Handling Outliers\n",
    "Since we don't have any null values now we check outliers in our dataset\n",
    "An outlier is something which is separate or different from the crowd. Outliers can be a result of a mistake during data collection or it can be just an indication of variance in your data. Some of the methods for detecting and handling outliers:\n",
    "\n",
    "1)BoxPlot\n",
    "2)Scatterplot\n",
    "3)Z-score\n",
    "4)IQR(Inter-Quartile Range)"
   ]
  },
  {
   "cell_type": "markdown",
   "metadata": {},
   "source": [
    "## Box Plot\n",
    "A box plot is a method for graphically depicting groups of numerical data through their quartiles. The box extends from the Q1 to Q3 quartile values of the data, with a line at the median (Q2). The whiskers extend from the edges of the box to show the range of the data."
   ]
  },
  {
   "cell_type": "code",
   "execution_count": 6,
   "metadata": {},
   "outputs": [
    {
     "data": {
      "text/plain": [
       "Index(['policyID', 'statecode', 'county', 'eq_site_limit', 'hu_site_limit',\n",
       "       'fl_site_limit', 'fr_site_limit', 'tiv_2011', 'tiv_2012',\n",
       "       'eq_site_deductible', 'hu_site_deductible', 'fl_site_deductible',\n",
       "       'fr_site_deductible', 'point_latitude', 'point_longitude', 'line',\n",
       "       'construction', 'point_granularity'],\n",
       "      dtype='object')"
      ]
     },
     "execution_count": 6,
     "metadata": {},
     "output_type": "execute_result"
    }
   ],
   "source": [
    "df.columns"
   ]
  },
  {
   "cell_type": "code",
   "execution_count": 7,
   "metadata": {},
   "outputs": [
    {
     "data": {
      "text/plain": [
       "<matplotlib.axes._subplots.AxesSubplot at 0x7fa67a771f10>"
      ]
     },
     "execution_count": 7,
     "metadata": {},
     "output_type": "execute_result"
    },
    {
     "data": {
      "image/png": "[encoded data removed]",
      "text/plain": [
       "<Figure size 432x288 with 1 Axes>"
      ]
     },
     "metadata": {
      "needs_background": "light"
     },
     "output_type": "display_data"
    }
   ],
   "source": [
    "sns.boxplot(x=df['eq_site_deductible'],y=y)"
   ]
  },
  {
   "cell_type": "markdown",
   "metadata": {},
   "source": [
    "## Scatter plot\n",
    "A scatter plot is a mathematical diagram using Cartesian coordinates to display values for two variables for a set of data. The data are displayed as a collection of points, each having the value of one variable determining the position on the horizontal axis and the value of the other variable determining the position on the vertical axis."
   ]
  },
  {
   "cell_type": "code",
   "execution_count": 8,
   "metadata": {},
   "outputs": [
    {
     "data": {
      "image/png": "[encoded data removed]",
      "text/plain": [
       "<Figure size 1152x576 with 1 Axes>"
      ]
     },
     "metadata": {
      "needs_background": "light"
     },
     "output_type": "display_data"
    }
   ],
   "source": [
    "fig, ax = plt.subplots(figsize=(16,8))\n",
    "ax.scatter(df['eq_site_deductible'] , y)\n",
    "ax.set_xlabel('eq_site_deductible')\n",
    "ax.set_ylabel('policyID')\n",
    "plt.show()"
   ]
  },
  {
   "cell_type": "markdown",
   "metadata": {},
   "source": [
    "## IQR:\n",
    "The interquartile range (IQR) is a measure of statistical dispersion, being equal to the difference between 75th and 25th percentiles, or between upper and lower quartiles.\n",
    "\n",
    "## IQR = Q3 − Q1."
   ]
  },
  {
   "cell_type": "code",
   "execution_count": 9,
   "metadata": {},
   "outputs": [
    {
     "data": {
      "text/plain": [
       "policyID              4.506042e+05\n",
       "eq_site_limit         0.000000e+00\n",
       "hu_site_limit         8.738570e+05\n",
       "fl_site_limit         0.000000e+00\n",
       "fr_site_limit         5.741010e+04\n",
       "tiv_2011              9.009580e+05\n",
       "tiv_2012              1.074858e+06\n",
       "eq_site_deductible    0.000000e+00\n",
       "hu_site_deductible    0.000000e+00\n",
       "fl_site_deductible    0.000000e+00\n",
       "fr_site_deductible    0.000000e+00\n",
       "point_latitude        3.151009e+00\n",
       "point_longitude       2.066421e+00\n",
       "point_granularity     2.000000e+00\n",
       "dtype: float64"
      ]
     },
     "execution_count": 9,
     "metadata": {},
     "output_type": "execute_result"
    }
   ],
   "source": [
    "Q1 = df.quantile(0.25) # 25th percentile\n",
    "Q3 = df.quantile(0.75) # 75th percentile\n",
    "IQR = Q3-Q1\n",
    "IQR"
   ]
  },
  {
   "cell_type": "code",
   "execution_count": 10,
   "metadata": {},
   "outputs": [
    {
     "data": {
      "text/plain": [
       "(19174, 18)"
      ]
     },
     "execution_count": 10,
     "metadata": {},
     "output_type": "execute_result"
    }
   ],
   "source": [
    "#Once we have IQR scores below code will remove all the outliers in our dataset.\n",
    "df_outlier_IQR = df[~((df<(Q1-1.5*IQR))|(df>(Q3+1.5*IQR))).any(axis=1)]\n",
    "df_outlier_IQR.shape"
   ]
  },
  {
   "cell_type": "markdown",
   "metadata": {},
   "source": [
    "## Understanding relationships and new insights through plots :\n",
    "We can get many relations in our data by visualizing our dataset. Let’s go through some techniques in order to see the insights.\n",
    "\n",
    "1)HeatMaps"
   ]
  },
  {
   "cell_type": "markdown",
   "metadata": {},
   "source": [
    "## Heat Map\n",
    "The Heat Map procedure shows the distribution of a quantitative variable over all combinations of 2 categorical factors. If one of the 2 factors represents time, then the evolution of the variable can be easily viewed using the map. The correlation between two random variables is a number that runs from -1 through 0 to +1."
   ]
  },
  {
   "cell_type": "code",
   "execution_count": 11,
   "metadata": {},
   "outputs": [
    {
     "data": {
      "text/plain": [
       "<matplotlib.axes._subplots.AxesSubplot at 0x7fa6792b1b50>"
      ]
     },
     "execution_count": 11,
     "metadata": {},
     "output_type": "execute_result"
    },
    {
     "data": {
      "image/png": "[encoded data removed]",
      "text/plain": [
       "<Figure size 432x288 with 2 Axes>"
      ]
     },
     "metadata": {
      "needs_background": "light"
     },
     "output_type": "display_data"
    }
   ],
   "source": [
    "# HeatMap\n",
    "\n",
    "correaltion_matrix = df.corr()\n",
    "sns.heatmap(data=correaltion_matrix,square=True)\n"
   ]
  }
 ],
 "metadata": {
  "kernelspec": {
   "display_name": "Python 3",
   "language": "python",
   "name": "python3"
  },
  "language_info": {
   "codemirror_mode": {
    "name": "ipython",
    "version": 3
   },
   "file_extension": ".py",
   "mimetype": "text/x-python",
   "name": "python",
   "nbconvert_exporter": "python",
   "pygments_lexer": "ipython3",
   "version": "3.8.3"
  }
 },
 "nbformat": 4,
 "nbformat_minor": 4
}
